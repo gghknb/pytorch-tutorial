{
 "cells": [
  {
   "cell_type": "markdown",
   "metadata": {},
   "source": [
    "# Linear Regression"
   ]
  },
  {
   "cell_type": "code",
   "execution_count": 1,
   "metadata": {},
   "outputs": [],
   "source": [
    "import torch\n",
    "import torch.nn as nn\n",
    "import numpy as np\n",
    "import matplotlib.pyplot as plt"
   ]
  },
  {
   "cell_type": "code",
   "execution_count": 17,
   "metadata": {},
   "outputs": [],
   "source": [
    "# Hyper-parameters\n",
    "input_size=1\n",
    "output_size=1\n",
    "num_epochs = 60\n",
    "learning_rate =0.001"
   ]
  },
  {
   "cell_type": "code",
   "execution_count": 18,
   "metadata": {},
   "outputs": [],
   "source": [
    "# Toy dataset\n",
    "x_train = np.array([[3.3], [4.4], [5.5], [6.71], [6.93], [4.168], \n",
    "                    [9.779], [6.182], [7.59], [2.167], [7.042], \n",
    "                    [10.791], [5.313], [7.997], [3.1]], dtype=np.float32)\n",
    "\n",
    "y_train = np.array([[1.7], [2.76], [2.09], [3.19], [1.694], [1.573], \n",
    "                    [3.366], [2.596], [2.53], [1.221], [2.827], \n",
    "                    [3.465], [1.65], [2.904], [1.3]], dtype=np.float32)"
   ]
  },
  {
   "cell_type": "code",
   "execution_count": 19,
   "metadata": {},
   "outputs": [],
   "source": [
    "# Linear regression medel\n",
    "model = nn.Linear(input_size,output_size)\n",
    "\n",
    "# Loss and optimizer\n",
    "criterion = nn.MSELoss()\n",
    "optimizer = torch.optim.SGD(model.parameters(), lr = learning_rate)"
   ]
  },
  {
   "cell_type": "code",
   "execution_count": 20,
   "metadata": {},
   "outputs": [
    {
     "name": "stdout",
     "output_type": "stream",
     "text": [
      "Epoch [3/60], Loss: 35.9754\n",
      "Epoch [6/60], Loss: 20.9905\n",
      "Epoch [9/60], Loss: 12.2768\n",
      "Epoch [12/60], Loss: 7.2098\n",
      "Epoch [15/60], Loss: 4.2634\n",
      "Epoch [18/60], Loss: 2.5500\n",
      "Epoch [21/60], Loss: 1.5537\n",
      "Epoch [24/60], Loss: 0.9744\n",
      "Epoch [27/60], Loss: 0.6375\n",
      "Epoch [30/60], Loss: 0.4416\n",
      "Epoch [33/60], Loss: 0.3277\n",
      "Epoch [36/60], Loss: 0.2614\n",
      "Epoch [39/60], Loss: 0.2229\n",
      "Epoch [42/60], Loss: 0.2005\n",
      "Epoch [45/60], Loss: 0.1875\n",
      "Epoch [48/60], Loss: 0.1799\n",
      "Epoch [51/60], Loss: 0.1755\n",
      "Epoch [54/60], Loss: 0.1729\n",
      "Epoch [57/60], Loss: 0.1714\n",
      "Epoch [60/60], Loss: 0.1706\n"
     ]
    }
   ],
   "source": [
    "# Train the model\n",
    "for epoch in range(num_epochs) :\n",
    "    # Convert numpy array to torch tensors\n",
    "    inputs = torch.from_numpy(x_train)\n",
    "    targets = torch.from_numpy(y_train)\n",
    "\n",
    "    # Forward pass\n",
    "    outputs = model(inputs)\n",
    "    loss = criterion(outputs,targets)\n",
    "    \n",
    "    # Backward and optimize\n",
    "    optimizer.zero_grad()\n",
    "    loss.backward()\n",
    "    optimizer.step()\n",
    "    \n",
    "    if (epoch+1) % 3 == 0 :\n",
    "        print('Epoch [{}/{}], Loss: {:.4f}'.format(epoch+1,num_epochs,loss.item()))"
   ]
  },
  {
   "cell_type": "markdown",
   "metadata": {},
   "source": [
    "## How optimizer.step() and loss.backward() related?\n",
    "\n",
    "(1) Does optimzer.step() function optimize based on the closest loss.backward() function?\n",
    "\n",
    "(2) what happens if I call several different backward() from losses and call optimizer.step()? </BR>\n",
    "Does the optimizer optimize based on all previous called losses?\n",
    "\n",
    "---\n",
    "1. optimizer.step is performs a parameter update based on the current gradient (stored in .grad attribute of a parameter) and the update rule. </BR>\n",
    "As an example, the update rule for SGD is defined here:\n",
    "https://github.com/pytorch/pytorch/blob/cd9b27231b51633e76e28b6a34002ab83b0660fc/torch/optim/sgd.py#L63 \n",
    "\n",
    "the update is not the based on the “closest” call but on the .grad attribute. How you calculate the gradient is upto you.\n",
    "\n",
    "2. Calling .backward() mutiple times accumulates the gradient (by addition) for each parameter. This is why you should call optimizer.zero_grad() after each .step() call. Note that following the first .backward call, a second call is only possible after you have performed another forward pass.\n",
    "\n",
    "[Link](https://discuss.pytorch.org/t/how-are-optimizer-step-and-loss-backward-related/7350)\n"
   ]
  },
  {
   "cell_type": "markdown",
   "metadata": {},
   "source": [
    "## Why use zero grad in pytorch?\n",
    "Since the backward() function accumulates gradients, and you don’t want to mix up gradients between minibatches, you have to zero them out at the start of a new minibatch. This is exactly like how a general (additive) accumulator variable is initialized to 0 in code.\n",
    "\n",
    "[Link](https://discuss.pytorch.org/t/why-do-we-need-to-set-the-gradients-manually-to-zero-in-pytorch/4903)"
   ]
  },
  {
   "cell_type": "markdown",
   "metadata": {},
   "source": [
    "## Torch.nn vs Torch.nn.Functional\n",
    "In PyTorch you define your Models as subclasses of torch.nn.Module.\n",
    "\n",
    "In the `__init__` function, you are supposed to __initialize__ the layers you want to use. Unlike keras, Pytorch goes more low level and you have to specify the sizes of your network so that everything matches.\n",
    "\n",
    "In the forward method, you __specify the connections__ of your layers. This means that you will use the layers you already initialized, in order to re-use the same layer for each forward pass of data you make.\n",
    "\n",
    "torch.nn.Functional contains some useful functions like activation functions a convolution operations you can use. However, these are not full layers so if you want to specify a layer of any kind you should use torch.nn.Module.\n",
    "\n",
    "You would use the torch.nn.Functional conv operations to define a custom layer for example with a convolution operation, but not to define a standard convolution layer.\n",
    "\n",
    "A `nn.Module` is actually a OO wrapper around the functional interface, that contains a number of utility methods, like `eval()` and `parameters()`, and it automatically creates the parameters of the modules for you.\n",
    "you can use the functional interface whenever you want, but that requires you to define the weights by hand. \n",
    "\n",
    "[Link](https://discuss.pytorch.org/t/how-to-choose-between-torch-nn-functional-and-torch-nn-module/2800)"
   ]
  },
  {
   "cell_type": "code",
   "execution_count": 22,
   "metadata": {},
   "outputs": [
    {
     "data": {
      "image/png": "[encoded data removed]",
      "text/plain": [
       "<Figure size 432x288 with 1 Axes>"
      ]
     },
     "metadata": {},
     "output_type": "display_data"
    }
   ],
   "source": [
    "# Plot the graph\n",
    "predicted = model(torch.from_numpy(x_train)).detach().numpy()\n",
    "plt.plot(x_train, y_train, 'ro', label='Original data')\n",
    "plt.plot(x_train, predicted, label='Fitted line')\n",
    "plt.legend()\n",
    "plt.show()\n",
    "\n",
    "# Save the model checkpoint\n",
    "torch.save(model.state_dict(), 'model.ckpt')"
   ]
  }
 ],
 "metadata": {
  "kernelspec": {
   "display_name": "Python 3",
   "language": "python",
   "name": "python3"
  },
  "language_info": {
   "codemirror_mode": {
    "name": "ipython",
    "version": 3
   },
   "file_extension": ".py",
   "mimetype": "text/x-python",
   "name": "python",
   "nbconvert_exporter": "python",
   "pygments_lexer": "ipython3",
   "version": "3.6.5"
  }
 },
 "nbformat": 4,
 "nbformat_minor": 2
}
