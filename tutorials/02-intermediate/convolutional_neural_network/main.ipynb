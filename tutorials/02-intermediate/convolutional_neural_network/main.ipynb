{
 "cells": [
  {
   "cell_type": "code",
   "execution_count": 1,
   "metadata": {},
   "outputs": [],
   "source": [
    "import torch \n",
    "import torch.nn as nn\n",
    "import torchvision\n",
    "import torchvision.transforms as transforms"
   ]
  },
  {
   "cell_type": "code",
   "execution_count": 22,
   "metadata": {},
   "outputs": [],
   "source": [
    "# Device configuration\n",
    "device = torch.device('cuda:1' if torch.cuda.is_available() else 'cpu')"
   ]
  },
  {
   "cell_type": "code",
   "execution_count": 33,
   "metadata": {},
   "outputs": [],
   "source": [
    "# Hyper parameters\n",
    "num_epochs = 100\n",
    "num_classes = 10\n",
    "batch_size = 100\n",
    "learning_rate = 0.001"
   ]
  },
  {
   "cell_type": "code",
   "execution_count": 14,
   "metadata": {},
   "outputs": [],
   "source": [
    "# MNIST dataset\n",
    "train_dataset = torchvision.datasets.MNIST(root='../../data/',\n",
    "                                           train=True, \n",
    "                                           transform=transforms.ToTensor(),\n",
    "                                           download=True)\n",
    "\n",
    "test_dataset = torchvision.datasets.MNIST(root='../../data/',\n",
    "                                          train=False, \n",
    "                                          transform=transforms.ToTensor())"
   ]
  },
  {
   "cell_type": "code",
   "execution_count": 15,
   "metadata": {},
   "outputs": [],
   "source": [
    "# Data loader\n",
    "train_loader = torch.utils.data.DataLoader(dataset=train_dataset,\n",
    "                                           batch_size=batch_size, \n",
    "                                           shuffle=True)\n",
    "\n",
    "test_loader = torch.utils.data.DataLoader(dataset=test_dataset,\n",
    "                                          batch_size=batch_size, \n",
    "                                          shuffle=False)"
   ]
  },
  {
   "cell_type": "code",
   "execution_count": 29,
   "metadata": {},
   "outputs": [],
   "source": [
    "# Convolutional neural network (two convolutional layers)\n",
    "class ConvNet(nn.Module):\n",
    "    def __init__(self, num_classes=10):\n",
    "        super(ConvNet, self).__init__()\n",
    "        self.layer1 = nn.Sequential(\n",
    "            nn.Conv2d(1,16,kernel_size=5,stride=1,padding=2),\n",
    "            nn.BatchNorm2d(16),\n",
    "            nn.ReLU(),\n",
    "            nn.MaxPool2d(kernel_size=2,stride=2))\n",
    "        self.layer2 = nn.Sequential(\n",
    "            nn.Conv2d(16,32,kernel_size=5,stride=1,padding=2),\n",
    "            nn.BatchNorm2d(32),\n",
    "            nn.ReLU(),\n",
    "            nn.MaxPool2d(kernel_size=2,stride=2))\n",
    "        self.fc = nn.Linear(7*7*32,num_classes)\n",
    "    def forward(self, x):\n",
    "        out = self.layer1(x)\n",
    "        out = self.layer2(out)\n",
    "        out = out.reshape(out.size(0),-1)\n",
    "        out = self.fc(out)\n",
    "        return out\n",
    "    \n",
    "model = ConvNet(num_classes).to(device)"
   ]
  },
  {
   "cell_type": "code",
   "execution_count": 26,
   "metadata": {},
   "outputs": [],
   "source": [
    "# Loss and optimizer\n",
    "criterion = nn.CrossEntropyLoss()\n",
    "optimizer = torch.optim.Adam(model.parameters(),lr=learning_rate)"
   ]
  },
  {
   "cell_type": "code",
   "execution_count": 35,
   "metadata": {},
   "outputs": [
    {
     "name": "stdout",
     "output_type": "stream",
     "text": [
      "Epoch [1/100], Step [600/600], Loss: 2.3355\n",
      "Epoch [2/100], Step [600/600], Loss: 2.2989\n",
      "Epoch [3/100], Step [600/600], Loss: 2.3633\n",
      "Epoch [4/100], Step [600/600], Loss: 2.3624\n",
      "Epoch [5/100], Step [600/600], Loss: 2.3196\n",
      "Epoch [6/100], Step [600/600], Loss: 2.2841\n",
      "Epoch [7/100], Step [600/600], Loss: 2.3303\n",
      "Epoch [8/100], Step [600/600], Loss: 2.3570\n",
      "Epoch [9/100], Step [600/600], Loss: 2.3503\n",
      "Epoch [10/100], Step [600/600], Loss: 2.3234\n",
      "Epoch [11/100], Step [600/600], Loss: 2.2816\n",
      "Epoch [12/100], Step [600/600], Loss: 2.3147\n",
      "Epoch [13/100], Step [600/600], Loss: 2.3602\n",
      "Epoch [14/100], Step [600/600], Loss: 2.3529\n",
      "Epoch [15/100], Step [600/600], Loss: 2.3546\n",
      "Epoch [16/100], Step [600/600], Loss: 2.3795\n",
      "Epoch [17/100], Step [600/600], Loss: 2.3859\n",
      "Epoch [18/100], Step [600/600], Loss: 2.2948\n",
      "Epoch [19/100], Step [600/600], Loss: 2.3520\n",
      "Epoch [20/100], Step [600/600], Loss: 2.3248\n",
      "Epoch [21/100], Step [600/600], Loss: 2.3438\n",
      "Epoch [22/100], Step [600/600], Loss: 2.3274\n",
      "Epoch [23/100], Step [600/600], Loss: 2.3795\n",
      "Epoch [24/100], Step [600/600], Loss: 2.3473\n",
      "Epoch [25/100], Step [600/600], Loss: 2.3903\n",
      "Epoch [26/100], Step [600/600], Loss: 2.3101\n",
      "Epoch [27/100], Step [600/600], Loss: 2.3417\n",
      "Epoch [28/100], Step [600/600], Loss: 2.3449\n",
      "Epoch [29/100], Step [600/600], Loss: 2.3598\n",
      "Epoch [30/100], Step [600/600], Loss: 2.3029\n",
      "Epoch [31/100], Step [600/600], Loss: 2.3178\n",
      "Epoch [32/100], Step [600/600], Loss: 2.3366\n",
      "Epoch [33/100], Step [600/600], Loss: 2.3106\n",
      "Epoch [34/100], Step [600/600], Loss: 2.3230\n",
      "Epoch [35/100], Step [600/600], Loss: 2.3666\n",
      "Epoch [36/100], Step [600/600], Loss: 2.3569\n",
      "Epoch [37/100], Step [600/600], Loss: 2.3254\n",
      "Epoch [38/100], Step [600/600], Loss: 2.3948\n",
      "Epoch [39/100], Step [600/600], Loss: 2.3761\n",
      "Epoch [40/100], Step [600/600], Loss: 2.3233\n",
      "Epoch [41/100], Step [600/600], Loss: 2.3474\n",
      "Epoch [42/100], Step [600/600], Loss: 2.3087\n",
      "Epoch [43/100], Step [600/600], Loss: 2.3647\n",
      "Epoch [44/100], Step [600/600], Loss: 2.3263\n",
      "Epoch [45/100], Step [600/600], Loss: 2.4393\n",
      "Epoch [46/100], Step [600/600], Loss: 2.3416\n",
      "Epoch [47/100], Step [600/600], Loss: 2.3350\n",
      "Epoch [48/100], Step [600/600], Loss: 2.3539\n",
      "Epoch [49/100], Step [600/600], Loss: 2.3290\n",
      "Epoch [50/100], Step [600/600], Loss: 2.2976\n",
      "Epoch [51/100], Step [600/600], Loss: 2.3726\n",
      "Epoch [52/100], Step [600/600], Loss: 2.2987\n",
      "Epoch [53/100], Step [600/600], Loss: 2.3654\n",
      "Epoch [54/100], Step [600/600], Loss: 2.3733\n",
      "Epoch [55/100], Step [600/600], Loss: 2.3602\n",
      "Epoch [56/100], Step [600/600], Loss: 2.3657\n",
      "Epoch [57/100], Step [600/600], Loss: 2.2960\n",
      "Epoch [58/100], Step [600/600], Loss: 2.3461\n",
      "Epoch [59/100], Step [600/600], Loss: 2.3253\n",
      "Epoch [60/100], Step [600/600], Loss: 2.3225\n",
      "Epoch [61/100], Step [600/600], Loss: 2.2686\n",
      "Epoch [62/100], Step [600/600], Loss: 2.3232\n",
      "Epoch [63/100], Step [600/600], Loss: 2.3306\n",
      "Epoch [64/100], Step [600/600], Loss: 2.3212\n",
      "Epoch [65/100], Step [600/600], Loss: 2.3628\n",
      "Epoch [66/100], Step [600/600], Loss: 2.4219\n",
      "Epoch [67/100], Step [600/600], Loss: 2.3607\n",
      "Epoch [68/100], Step [600/600], Loss: 2.3150\n",
      "Epoch [69/100], Step [600/600], Loss: 2.3189\n",
      "Epoch [70/100], Step [600/600], Loss: 2.3134\n",
      "Epoch [71/100], Step [600/600], Loss: 2.3580\n",
      "Epoch [72/100], Step [600/600], Loss: 2.3418\n",
      "Epoch [73/100], Step [600/600], Loss: 2.3318\n",
      "Epoch [74/100], Step [600/600], Loss: 2.3244\n",
      "Epoch [75/100], Step [600/600], Loss: 2.3188\n",
      "Epoch [76/100], Step [600/600], Loss: 2.3348\n",
      "Epoch [77/100], Step [600/600], Loss: 2.3768\n",
      "Epoch [78/100], Step [600/600], Loss: 2.3553\n",
      "Epoch [79/100], Step [600/600], Loss: 2.3469\n",
      "Epoch [80/100], Step [600/600], Loss: 2.3818\n",
      "Epoch [81/100], Step [600/600], Loss: 2.3257\n",
      "Epoch [82/100], Step [600/600], Loss: 2.3901\n",
      "Epoch [83/100], Step [600/600], Loss: 2.3695\n",
      "Epoch [84/100], Step [600/600], Loss: 2.2692\n",
      "Epoch [85/100], Step [600/600], Loss: 2.3550\n",
      "Epoch [86/100], Step [600/600], Loss: 2.3208\n",
      "Epoch [87/100], Step [600/600], Loss: 2.3866\n",
      "Epoch [88/100], Step [600/600], Loss: 2.3695\n",
      "Epoch [89/100], Step [600/600], Loss: 2.2923\n",
      "Epoch [90/100], Step [600/600], Loss: 2.3166\n",
      "Epoch [91/100], Step [600/600], Loss: 2.3656\n",
      "Epoch [92/100], Step [600/600], Loss: 2.3407\n",
      "Epoch [93/100], Step [600/600], Loss: 2.3239\n",
      "Epoch [94/100], Step [600/600], Loss: 2.2905\n",
      "Epoch [95/100], Step [600/600], Loss: 2.3255\n",
      "Epoch [96/100], Step [600/600], Loss: 2.3301\n",
      "Epoch [97/100], Step [600/600], Loss: 2.3369\n",
      "Epoch [98/100], Step [600/600], Loss: 2.4227\n",
      "Epoch [99/100], Step [600/600], Loss: 2.3139\n",
      "Epoch [100/100], Step [600/600], Loss: 2.4162\n"
     ]
    }
   ],
   "source": [
    "# Train the model\n",
    "total_step = len(train_loader)\n",
    "for epoch in range(num_epochs) :\n",
    "    for i,(images,labels) in enumerate(train_loader) :\n",
    "        images = images.to(device)\n",
    "        labels = labels.to(device)\n",
    "        \n",
    "        # Forward\n",
    "        outputs = model(images)\n",
    "        loss = criterion(outputs,labels)\n",
    "        \n",
    "        #backward pass and optim\n",
    "        optimizer.zero_grad()\n",
    "        loss.backward\n",
    "        optimizer.step()\n",
    "        if (i+1) % 600 == 0:\n",
    "            print ('Epoch [{}/{}], Step [{}/{}], Loss: {:.4f}' \n",
    "                   .format(epoch+1, num_epochs, i+1, total_step, loss.item()))"
   ]
  },
  {
   "cell_type": "code",
   "execution_count": 36,
   "metadata": {},
   "outputs": [
    {
     "name": "stdout",
     "output_type": "stream",
     "text": [
      "Test Accuracy of the model on the 10000 test images: 12.82 %\n"
     ]
    }
   ],
   "source": [
    "# Test the model\n",
    "model.eval() # eval mode (batchnorm uses moving mean/variance instead of mini-batch\n",
    "with torch.no_grad() :\n",
    "    correct = 0\n",
    "    total = 0 \n",
    "    for images,labels in test_loader :\n",
    "        images = images.to(device)\n",
    "        labels = labels.to(device)\n",
    "        outputs = model(images)\n",
    "        _, predicted = torch.max(outputs.data,1)\n",
    "        total += labels.size(0)\n",
    "        correct += (predicted == labels).sum().item()\n",
    "    print('Test Accuracy of the model on the 10000 test images: {} %'.format(100 * correct / total))\n"
   ]
  },
  {
   "cell_type": "code",
   "execution_count": 31,
   "metadata": {},
   "outputs": [],
   "source": [
    "# Save the model checkpoint\n",
    "torch.save(model.state_dict(), 'CNN_model.ckpt')"
   ]
  },
  {
   "cell_type": "code",
   "execution_count": null,
   "metadata": {},
   "outputs": [],
   "source": []
  }
 ],
 "metadata": {
  "kernelspec": {
   "display_name": "Python 3",
   "language": "python",
   "name": "python3"
  },
  "language_info": {
   "codemirror_mode": {
    "name": "ipython",
    "version": 3
   },
   "file_extension": ".py",
   "mimetype": "text/x-python",
   "name": "python",
   "nbconvert_exporter": "python",
   "pygments_lexer": "ipython3",
   "version": "3.6.5"
  }
 },
 "nbformat": 4,
 "nbformat_minor": 2
}
